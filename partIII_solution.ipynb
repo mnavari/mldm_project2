{
 "cells": [
  {
   "cell_type": "markdown",
   "metadata": {
    "collapsed": true
   },
   "source": [
    "# Part III: Ensembles and Final Result\n",
    "\n",
    "## AdaBoost\n",
    "\n",
    "Train an AdaBoost classifier using Decision Tree stubs as weak learners. Compare its performance to results obtained in Part II using 10 fold CV."
   ]
  },
  {
   "cell_type": "code",
   "execution_count": 1,
   "metadata": {
    "collapsed": true
   },
   "outputs": [],
   "source": [
    "%load_ext autoreload\n",
    "%autoreload 2"
   ]
  },
  {
   "cell_type": "code",
   "execution_count": 3,
   "metadata": {},
   "outputs": [
    {
     "name": "stdout",
     "output_type": "stream",
     "text": [
      "(90526, 101)\n",
      "(90526,)\n"
     ]
    }
   ],
   "source": [
    "import proj2_lib.preprocess as preprocess\n",
    "train_X, train_y = preprocess.load_train_data()\n",
    "print(train_X.shape)\n",
    "print(train_y.shape)"
   ]
  },
  {
   "cell_type": "code",
   "execution_count": 5,
   "metadata": {},
   "outputs": [],
   "source": [
    "from sklearn.tree import DecisionTreeClassifier\n",
    "from sklearn.ensemble import AdaBoostClassifier\n",
    "\n",
    "stump = DecisionTreeClassifier(max_depth=1)\n",
    "adaboost = AdaBoostClassifier(stump)"
   ]
  },
  {
   "cell_type": "code",
   "execution_count": 6,
   "metadata": {
    "collapsed": true
   },
   "outputs": [],
   "source": [
    "from sklearn.model_selection import cross_val_score\n",
    "adaboost_auc = cross_val_score(adaboost, train_X, train_y,\n",
    "                              scoring='roc_auc')\n"
   ]
  },
  {
   "cell_type": "code",
   "execution_count": 7,
   "metadata": {},
   "outputs": [
    {
     "data": {
      "text/plain": [
       "0.72590750897804091"
      ]
     },
     "execution_count": 7,
     "metadata": {},
     "output_type": "execute_result"
    }
   ],
   "source": [
    "import numpy as np\n",
    "\n",
    "# mean AUC of adaboost\n",
    "np.mean(adaboost_auc)"
   ]
  },
  {
   "cell_type": "markdown",
   "metadata": {},
   "source": [
    "## Stacking\n",
    "\n",
    "Choose a set of 5 or so classifiers. Write a function that trains an ensemble using stacking"
   ]
  },
  {
   "cell_type": "code",
   "execution_count": 122,
   "metadata": {},
   "outputs": [],
   "source": [
    "from sklearn.base import BaseEstimator, ClassifierMixin, TransformerMixin\n",
    "from sklearn.pipeline import make_union\n",
    "from sklearn.linear_model import LogisticRegression\n",
    "from sklearn.model_selection import StratifiedShuffleSplit\n",
    "\n",
    "class ClassificationTransformer(TransformerMixin):\n",
    "    def __init__(self, estimator=DecisionTreeClassifier(),\n",
    "                func='predict'):\n",
    "        self.estimator = estimator\n",
    "        self.func = func\n",
    "        \n",
    "    def fit(self, X, y):\n",
    "        self.estimator = self.estimator.fit(X, y)\n",
    "        return self\n",
    "        \n",
    "    def transform(self, X):\n",
    "        func = None\n",
    "        if self.func == 'predict':\n",
    "            func = self.estimator.predict\n",
    "        elif self.func == 'decision_function':\n",
    "            func = self.estimator.decision_function\n",
    "        elif self.func == 'predict_proba':\n",
    "            func = lambda X: self.estimator.predict_proba(X)[:,0]\n",
    "        else:\n",
    "            func = self.func = self.estimator.predict\n",
    "        \n",
    "        return func(X)\n",
    "    \n",
    "class StackedClassifier(BaseEstimator, ClassifierMixin):\n",
    "    def __init__(self, estimators=[(DecisionTreeClassifier(), 'predict_proba')]):\n",
    "        self.estimators = estimators\n",
    "        transformers = []\n",
    "        for estimator, func in estimators:\n",
    "            transformer = ClassificationTransformer(estimator=estimator, func=func)\n",
    "            transformers.append(transformer)\n",
    "        \n",
    "        self.nestimators_ = len(transformers)\n",
    "        self.pipeline_ = make_union(*transformers)\n",
    "        self.logreg_ = LogisticRegression()\n",
    "        \n",
    "    def transform_(self, X):\n",
    "        nobs = X.shape[0]\n",
    "        XX = self.pipeline_.transform(X)\n",
    "        return XX.reshape((nobs, self.nestimators_))\n",
    "    \n",
    "    def fit(self, X, y):\n",
    "        ssplit = StratifiedShuffleSplit(n_splits=1, test_size=.2)\n",
    "        for train_index, test_index in ssplit.split(X, y):\n",
    "            train_X = X[train_index,:]\n",
    "            validation_X = X[test_index, :]\n",
    "            \n",
    "            train_y = y[train_index]\n",
    "            validation_y = y[test_index]\n",
    "        \n",
    "        self.pipeline_ = self.pipeline_.fit(train_X, train_y)\n",
    "        \n",
    "        XX = self.transform_(validation_X)\n",
    "        self.logreg_ = self.logreg_.fit(XX, validation_y)\n",
    "        return self\n",
    "    \n",
    "    def decision_function(self, X):\n",
    "        XX = self.transform_(X)\n",
    "        return self.logreg_.decision_function(XX)\n",
    "    \n",
    "    def predict(self, X):\n",
    "        return np.sign(self.decision_function(X))\n",
    "    "
   ]
  },
  {
   "cell_type": "code",
   "execution_count": 123,
   "metadata": {},
   "outputs": [],
   "source": [
    "from sklearn.ensemble import AdaBoostClassifier, RandomForestClassifier\n",
    "from sklearn.svm import LinearSVC\n",
    "\n",
    "estimators = [\n",
    "    (AdaBoostClassifier(), 'decision_function'),\n",
    "    (LinearSVC(C=0.01), 'decision_function'),\n",
    "    (LinearSVC(C=1.0), 'decision_function'),\n",
    "    (LinearSVC(C=100.0), 'decision_function'),\n",
    "    (RandomForestClassifier(n_estimators=10), 'predict_proba'),\n",
    "    (RandomForestClassifier(n_estimators=100), 'predict_proba')\n",
    "]\n",
    "\n",
    "stack = StackedClassifier(estimators=estimators)\n",
    "stack = stack.fit(train_X[:1000,:], train_y[:1000])"
   ]
  },
  {
   "cell_type": "code",
   "execution_count": 124,
   "metadata": {},
   "outputs": [
    {
     "data": {
      "text/plain": [
       "array([-1., -1., -1., -1., -1., -1., -1., -1., -1., -1.])"
      ]
     },
     "execution_count": 124,
     "metadata": {},
     "output_type": "execute_result"
    }
   ],
   "source": [
    "res = stack.predict(train_X)\n",
    "res[:10]"
   ]
  },
  {
   "cell_type": "markdown",
   "metadata": {},
   "source": [
    "Use 10-fold cross validation to measure performance of your stacked classifier. See Part II solution to see how to roll your own sklearn classifier along with http://scikit-learn.org/stable/developers/contributing.html#rolling-your-own-estimator"
   ]
  },
  {
   "cell_type": "code",
   "execution_count": 125,
   "metadata": {},
   "outputs": [
    {
     "name": "stderr",
     "output_type": "stream",
     "text": [
      "[Parallel(n_jobs=4)]: Done  10 out of  10 | elapsed:  1.9min finished\n"
     ]
    }
   ],
   "source": [
    "from sklearn.model_selection import cross_val_score\n",
    "\n",
    "stack = StackedClassifier(estimators=estimators)\n",
    "stack_auc = cross_val_score(stack, train_X, train_y,\n",
    "                            n_jobs=4, cv=10, verbose=1,\n",
    "                            scoring='roc_auc')"
   ]
  },
  {
   "cell_type": "code",
   "execution_count": 126,
   "metadata": {},
   "outputs": [
    {
     "data": {
      "text/plain": [
       "0.50490947504689243"
      ]
     },
     "execution_count": 126,
     "metadata": {},
     "output_type": "execute_result"
    }
   ],
   "source": [
    "np.mean(stack_auc)"
   ]
  },
  {
   "cell_type": "markdown",
   "metadata": {},
   "source": [
    "## Final Result\n",
    "\n",
    "Choose a single model based on all previous project steps. Train this model on the complete training dataset and measure it's performance on the held out test set.\n",
    "\n",
    "Compare to the 10-fold CV estimate you got previously."
   ]
  },
  {
   "cell_type": "code",
   "execution_count": 127,
   "metadata": {
    "collapsed": true
   },
   "outputs": [],
   "source": [
    "# final result goes here\n",
    "adaboost = AdaBoostClassifier(DecisionTreeClassifier(max_depth=1))\n",
    "adaboost = adaboost.fit(train_X, train_y)"
   ]
  },
  {
   "cell_type": "code",
   "execution_count": 129,
   "metadata": {},
   "outputs": [],
   "source": [
    "test_X, test_y = preprocess.load_test_data()"
   ]
  },
  {
   "cell_type": "code",
   "execution_count": 131,
   "metadata": {
    "collapsed": true
   },
   "outputs": [],
   "source": [
    "pred_y = adaboost.predict_proba(test_X)"
   ]
  },
  {
   "cell_type": "code",
   "execution_count": 134,
   "metadata": {},
   "outputs": [
    {
     "data": {
      "text/plain": [
       "0.72970096598574885"
      ]
     },
     "execution_count": 134,
     "metadata": {},
     "output_type": "execute_result"
    }
   ],
   "source": [
    "from sklearn.metrics import roc_auc_score\n",
    "roc_auc_score(test_y, pred_y[:,1])"
   ]
  },
  {
   "cell_type": "code",
   "execution_count": null,
   "metadata": {
    "collapsed": true
   },
   "outputs": [],
   "source": []
  }
 ],
 "metadata": {
  "kernelspec": {
   "display_name": "Python 3 (Spyder)",
   "language": "python3",
   "name": "python3"
  },
  "language_info": {
   "codemirror_mode": {
    "name": "ipython",
    "version": 3
   },
   "file_extension": ".py",
   "mimetype": "text/x-python",
   "name": "python",
   "nbconvert_exporter": "python",
   "pygments_lexer": "ipython3",
   "version": "3.6.1"
  }
 },
 "nbformat": 4,
 "nbformat_minor": 2
}
